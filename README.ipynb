# NetSwitch

'''
FOR BERTRAND plotting assortativity vs number of switchings
'''
n = 128
p = 0.05
swt_batch_count = 100

#RANDOM Switching
random.seed(0)
ERgraph = ig.Graph.Erdos_Renyi(n=n, p=p)
S = NetSwitch(ERgraph)
rRand = [(S.swt_done, S.assortativity_coeff())]
while True:
    ret = S.switch_A(alg='RAND', count=swt_batch_count)
    rRand.append((S.swt_done, S.assortativity_coeff()))
    if ret != -1:
        break
ARand = np.copy(S.A)

random.seed(0)
ERgraph = ig.Graph.Erdos_Renyi(n=n, p=p)
S = NetSwitch(ERgraph)
rOrdr = [(S.swt_done, S.assortativity_coeff())]
while True:
    ret = S.switch_A(alg='ORDR', count=swt_batch_count)
    rOrdr.append((S.swt_done, S.assortativity_coeff()))
    if ret != -1:
        break
ARowr = np.copy(S.A)

random.seed(0)
ERgraph = ig.Graph.Erdos_Renyi(n=n, p=p)
S = NetSwitch(ERgraph)
rOrdd = [(S.swt_done, S.assortativity_coeff())]
while True:
    ret = S.switch_A(alg='ORDD', count=swt_batch_count)
    rOrdd.append((S.swt_done, S.assortativity_coeff()))
    if ret != -1:
        break
ADiag = np.copy(S.A)

plt.figure(figsize=(5, 3))
plt.plot([i[0] for i in rRand], [i[1] for i in rRand], label='Random')
plt.plot([i[0] for i in rOrdr], [i[1] for i in rOrdr], label='Row-by-row')
plt.plot([i[0] for i in rOrdd], [i[1] for i in rOrdd], label='Diagonal')
plt.xlabel('Number of switches')
plt.ylabel('Assortativity')
plt.legend()
plt.show()
