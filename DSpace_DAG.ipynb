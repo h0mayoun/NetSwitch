{
  "nbformat": 4,
  "nbformat_minor": 0,
  "metadata": {
    "colab": {
      "provenance": [],
      "authorship_tag": "ABX9TyNqdDAm2R+7TbW0vWOpeaNI",
      "include_colab_link": true
    },
    "kernelspec": {
      "name": "python3",
      "display_name": "Python 3"
    },
    "language_info": {
      "name": "python"
    }
  },
  "cells": [
    {
      "cell_type": "markdown",
      "metadata": {
        "id": "view-in-github",
        "colab_type": "text"
      },
      "source": [
        "<a href=\"https://colab.research.google.com/github/h0mayoun/NetSwitch/blob/main/DSpace_DAG.ipynb\" target=\"_parent\"><img src=\"https://colab.research.google.com/assets/colab-badge.svg\" alt=\"Open In Colab\"/></a>"
      ]
    },
    {
      "cell_type": "markdown",
      "source": [
        "Installing dagviz library to use for visualizations."
      ],
      "metadata": {
        "id": "M5N_L9U5Xixi"
      }
    },
    {
      "cell_type": "code",
      "source": [
        "!pip install dagviz\n",
        "\n",
        "import dagviz\n",
        "from dagviz import render_svg\n",
        "from dagviz.style.metro import svg_renderer, StyleConfig\n",
        "from IPython.display import HTML"
      ],
      "metadata": {
        "id": "lTmmdeuio2Kj"
      },
      "execution_count": null,
      "outputs": []
    },
    {
      "cell_type": "markdown",
      "source": [
        "Importing required Python libraries."
      ],
      "metadata": {
        "id": "pTmlhy7rXrOp"
      }
    },
    {
      "cell_type": "code",
      "source": [
        "import numpy as np\n",
        "import matplotlib.pyplot as plt\n",
        "from matplotlib import colors\n",
        "import networkx as nx"
      ],
      "metadata": {
        "id": "nfYOaSR4KbM6"
      },
      "execution_count": null,
      "outputs": []
    },
    {
      "cell_type": "markdown",
      "source": [
        "Defining simple functions to perform measurements and manipulations on binary adjacency matrices of graphs."
      ],
      "metadata": {
        "id": "viykzJ14X0Tw"
      }
    },
    {
      "cell_type": "code",
      "source": [
        "def degree_seq(adj):\n",
        "    '''Returns the degree sequence of a graph from its adjacency matrix.'''\n",
        "    return np.sum(adj, axis=0)\n",
        "\n",
        "def assortativity_coeff(adj):\n",
        "    '''Calculates the assortativity coefficient for a graph\n",
        "    from its binary adjacncy matrix.\n",
        "    Calculations based on [PHYSICAL REVIEW E 84, 047101 (2011)].'''\n",
        "    n = len(adj)\n",
        "    m = np.sum(adj)/2.0\n",
        "    deg = degree_seq(adj)\n",
        "    M2, di1, di2 = 0, 0, 0\n",
        "    for i in range(n-1):\n",
        "        for j in range(i+1, n):\n",
        "            if adj[i, j] == 1:\n",
        "                M2 += deg[i] * deg[j]\n",
        "                di1 += (deg[i] + deg[j])/2.0\n",
        "                di2 += (deg[i]**2 + deg[j]**2)/2.0\n",
        "    di1 = (di1/m) ** 2\n",
        "    di2 /= m\n",
        "    M2 /= m\n",
        "    return (M2 - di1)/(di2 - di1)\n",
        "\n",
        "def switch_4e(adj, e1, e2, e3, e4):\n",
        "    mat = np.copy(adj)\n",
        "    mat[e1[0], e1[1]], mat[e1[1], e1[0]], mat[e2[0], e2[1]], mat[e2[1], e2[0]] = 0, 0, 0, 0\n",
        "    mat[e3[0], e3[1]], mat[e3[1], e3[0]], mat[e4[0], e4[1]], mat[e4[1], e4[0]] = 1, 1, 1, 1\n",
        "    return mat\n",
        "\n",
        "def switch_checkerboard(adj, i, j, k, l):\n",
        "    mat = np.copy(adj)\n",
        "    mat[i, k], mat[k, i], mat[j, k], mat[k, j] = 1-mat[i, k], 1-mat[k, i], 1-mat[j, k], 1-mat[k, j]\n",
        "    mat[i, l], mat[l, i], mat[j, l], mat[l, j] = 1-mat[i, l], 1-mat[l, i], 1-mat[j, l], 1-mat[l, j]\n",
        "    return mat\n",
        "\n",
        "def is_checkerboard(ik, il, jk, jl):\n",
        "    if ik == jl and il == jk and ik == 1-jk:\n",
        "        return True\n",
        "    else:\n",
        "        return False\n",
        "\n",
        "def find_adj(adj, mat_list):\n",
        "    for i in range(len(mat_list)):\n",
        "        if np.array_equal(adj, mat_list[i]):\n",
        "            return i\n",
        "    return -1\n",
        "\n",
        "def all_next_switches_XBS(adj):\n",
        "    adj_r = assortativity_coeff(adj)\n",
        "    next_swt = []\n",
        "    swt_type = []\n",
        "    edgeIdxs = np.where(adj==1)\n",
        "    edgeIdxs = [(edgeIdxs[0][i], edgeIdxs[1][i]) for i in range(len(edgeIdxs[0])) if edgeIdxs[0][i]<edgeIdxs[1][i]]\n",
        "    for e1_idx in range(len(edgeIdxs)-1):\n",
        "        for e2_idx in range(e1_idx+1, len(edgeIdxs)):\n",
        "            e1, e2 = edgeIdxs[e1_idx], edgeIdxs[e2_idx]\n",
        "            if len(set(e1+e2)) != 4:\n",
        "                continue\n",
        "            swt_options = [(e1[0], e2[0], e1[1], e2[1]), (e1[0], e2[1], e1[1], e2[0])]\n",
        "            for opt in swt_options:\n",
        "                if (adj[opt[0], opt[1]] == 1) or (adj[opt[2], opt[3]] == 1):\n",
        "                    continue\n",
        "                new_adj = switch_4e(adj, e1, e2, (opt[0], opt[1]), (opt[2], opt[3]))\n",
        "                new_r =  assortativity_coeff(new_adj)\n",
        "                if adj_r < new_r:\n",
        "                    swt_type.append(True)\n",
        "                elif adj_r > new_r:\n",
        "                    swt_type.append(False)\n",
        "                else:\n",
        "                    if (opt[0] * opt[1] + opt[2]* opt[3]) - (e1[0] * e1[1] + e2[0] * e2[1]) > 0:\n",
        "                        swt_type.append(True)\n",
        "                    else:\n",
        "                        swt_type.append(False)\n",
        "                next_swt.append(new_adj)\n",
        "    return next_swt, swt_type\n",
        "\n",
        "def all_next_switches(adj):\n",
        "    adj_r = assortativity_coeff(adj)\n",
        "    n = len(adj)\n",
        "    next_swt = []\n",
        "    swt_type = []\n",
        "    for row1 in range(n-1):\n",
        "        for row2 in range(row1+1, n):\n",
        "            for col1 in range(row1+1, n-1):\n",
        "                if row2 == col1:\n",
        "                    continue\n",
        "                for col2 in range(col1+1, n):\n",
        "                    if row2 == col2:\n",
        "                        continue\n",
        "                    if is_checkerboard(adj[row1, col1], adj[row1, col2], adj[row2, col1], adj[row2, col2]):\n",
        "                        new_adj = switch_checkerboard(adj, row1, row2, col1, col2)\n",
        "                        new_r =  assortativity_coeff(new_adj)\n",
        "                        if adj[row1, col1] == 0:\n",
        "                            swt_type.append(True)\n",
        "                        else:\n",
        "                            swt_type.append(False)\n",
        "                        next_swt.append(new_adj)\n",
        "    return next_swt, swt_type\n",
        "\n",
        "def generate_switch_dag(adj):\n",
        "    '''This function generates every graph in the degree-sequence space of the\n",
        "    input adjacency matrix.\n",
        "    The output is a set of adjacency matrices reachable from each other by one\n",
        "    or more checkerboard switchings.\n",
        "    The function returns arcs between graphs, representing switches that produce\n",
        "    the target graph by an 'assortative' switch on the source graph.\n",
        "    '''\n",
        "    d_space = []\n",
        "    d_space_arcs = []\n",
        "    d_space_r = []\n",
        "    d_space.append(adj)\n",
        "    d_space_r.append(assortativity_coeff(adj))\n",
        "    d_space_pointer = 0\n",
        "\n",
        "    while d_space_pointer < len(d_space):\n",
        "        nxt_swts, nxt_arcs = all_next_switches(d_space[d_space_pointer])\n",
        "        for nxtswt_idx in range(len(nxt_swts)):\n",
        "            nxt_swt = nxt_swts[nxtswt_idx]\n",
        "            dspace_adj_index = find_adj(nxt_swt, d_space)\n",
        "            if dspace_adj_index == -1:\n",
        "                d_space.append(nxt_swt)\n",
        "                d_space_r.append(deg_assortativity(nxt_swt))\n",
        "                dspace_adj_index = len(d_space)-1\n",
        "            if nxt_arcs[nxtswt_idx]:\n",
        "                if (d_space_pointer, dspace_adj_index) not in d_space_arcs:\n",
        "                    d_space_arcs.append((d_space_pointer, dspace_adj_index))\n",
        "            else:\n",
        "                if (dspace_adj_index, d_space_pointer) not in d_space_arcs:\n",
        "                    d_space_arcs.append((dspace_adj_index, d_space_pointer))\n",
        "        d_space_pointer += 1\n",
        "\n",
        "    # SORTING the output according to the assortativity of the graphs\n",
        "    sorted_arc_idxs = np.argsort(d_space_r)\n",
        "    d_space = [d_space[idx] for idx in sorted_arc_idxs]\n",
        "    d_space_r = [d_space_r[idx] for idx in sorted_arc_idxs]\n",
        "    arc_sort_dict = {i:np.where(sorted_arc_idxs == i)[0][0] for i in sorted_arc_idxs}\n",
        "    for arc_idx in range(len(d_space_arcs)):\n",
        "        d_space_arcs[arc_idx] = (arc_sort_dict[d_space_arcs[arc_idx][0]], arc_sort_dict[d_space_arcs[arc_idx][1]])\n",
        "    d_space_arcs.sort()\n",
        "    #d_space_r, d_space, d_space_arcs = (list(lst) for lst in zip(*sorted(zip(d_space_r, d_space, d_space_arcs))))\n",
        "\n",
        "    return d_space, d_space_arcs, d_space_r\n"
      ],
      "metadata": {
        "id": "vK5Nk7ADnnVW"
      },
      "execution_count": null,
      "outputs": []
    },
    {
      "cell_type": "code",
      "source": [
        "# Example small adjacency matrices for visualization of switch DAG\n",
        "A = np.array([[0, 0, 1, 1, 1, 1, 0],\n",
        "              [0, 0, 1, 1, 0, 0, 1],\n",
        "              [1, 1, 0, 0, 0, 0, 0],\n",
        "              [1, 1, 0, 0, 0, 0, 0],\n",
        "              [1, 0, 0, 0, 0, 0, 0],\n",
        "              [1, 0, 0, 0, 0, 0, 0],\n",
        "              [0, 1, 0, 0, 0, 0, 0]])\n",
        "\n",
        "A = np.array([[0, 0, 1, 1, 1, 1],\n",
        "              [0, 0, 1, 1, 1, 0],\n",
        "              [1, 1, 0, 0, 0, 0],\n",
        "              [1, 1, 0, 0, 0, 0],\n",
        "              [1, 1, 0, 0, 0, 0],\n",
        "              [1, 0, 0, 0, 0, 0]])\n",
        "\n",
        "d_space, d_space_arcs, d_space_r = generate_switch_dag(A)\n",
        "\n",
        "'''\n",
        "    In the block below: Render, show, and save an SVG image\n",
        "    depicting the resulting DAG,\n",
        "    i.e. the graph of all switches in the degree sequence space.\n",
        "'''\n",
        "G = nx.DiGraph()\n",
        "for i in range(len(d_space)):\n",
        "    G.add_node(f\"{i}\")\n",
        "for e in d_space_arcs:\n",
        "    G.add_edge(f\"{e[0]}\", f\"{e[1]}\")\n",
        "dagviz.Metro(G)\n",
        "r = dagviz.render_svg(G, style=svg_renderer(StyleConfig(label_arrow_dash_array=0, label_font_size=0, scale=20, node_radius=0, arc_radius=25)))\n",
        "with open(\"DAG.svg\", \"wt\") as fs:\n",
        "    fs.write(r)\n",
        "display(HTML(render_svg(G)))\n",
        "\n",
        "'''\n",
        "    ALL MATRICES belonging to the d-space are plotted here,\n",
        "    with the order following the indices shown on the DAG\n",
        "    visualized above.\n",
        "'''\n",
        "cmap = colors.ListedColormap(['white', 'tab:blue'])\n",
        "plot_dim = int(np.ceil(np.log2(len(d_space))))\n",
        "fig = plt.figure(layout='constrained', figsize=(10, 10))\n",
        "fig, axes = plt.subplots(plot_dim, plot_dim, sharex=True, sharey=True)\n",
        "for x in range(plot_dim):\n",
        "    for y in range(plot_dim):\n",
        "        plot_idx = x * plot_dim + y\n",
        "        if plot_idx < len(d_space):\n",
        "            axes[x][y].imshow(d_space[plot_idx], cmap=cmap)\n",
        "            axes[x][y].set_xticks([])\n",
        "            axes[x][y].set_yticks([])\n",
        "        else:\n",
        "            axes[x][y].axis('off')\n",
        "plt.show()"
      ],
      "metadata": {
        "id": "qMVFBxY0mrkV",
        "colab": {
          "base_uri": "https://localhost:8080/",
          "height": 1000
        },
        "outputId": "44e2f923-ac17-45af-944f-1c4129d20fa9"
      },
      "execution_count": 108,
      "outputs": [
        {
          "output_type": "display_data",
          "data": {
            "text/plain": [
              "<IPython.core.display.HTML object>"
            ],
            "text/html": [
              "<svg baseProfile=\"full\" height=\"100%\" version=\"1.1\" viewBox=\"25.0,5.0,475.0,260.0\" width=\"100%\" xmlns=\"http://www.w3.org/2000/svg\" xmlns:ev=\"http://www.w3.org/2001/xml-events\" xmlns:xlink=\"http://www.w3.org/1999/xlink\"><defs /><g><line stroke=\"lightgrey\" stroke-dasharray=\"2\" x1=\"210.0\" x2=\"209.0\" y1=\"15.0\" y2=\"15.0\" /><line stroke=\"lightgrey\" stroke-dasharray=\"2\" x1=\"190.0\" x2=\"209.0\" y1=\"35.0\" y2=\"35.0\" /><line stroke=\"lightgrey\" stroke-dasharray=\"2\" x1=\"170.0\" x2=\"209.0\" y1=\"55.0\" y2=\"55.0\" /><line stroke=\"lightgrey\" stroke-dasharray=\"2\" x1=\"150.0\" x2=\"209.0\" y1=\"75.0\" y2=\"75.0\" /><line stroke=\"lightgrey\" stroke-dasharray=\"2\" x1=\"130.0\" x2=\"209.0\" y1=\"95.0\" y2=\"95.0\" /><line stroke=\"lightgrey\" stroke-dasharray=\"2\" x1=\"110.0\" x2=\"209.0\" y1=\"115.0\" y2=\"115.0\" /><line stroke=\"lightgrey\" stroke-dasharray=\"2\" x1=\"90.0\" x2=\"209.0\" y1=\"135.0\" y2=\"135.0\" /><line stroke=\"lightgrey\" stroke-dasharray=\"2\" x1=\"70.0\" x2=\"209.0\" y1=\"155.0\" y2=\"155.0\" /><line stroke=\"lightgrey\" stroke-dasharray=\"2\" x1=\"50.0\" x2=\"209.0\" y1=\"175.0\" y2=\"175.0\" /><line stroke=\"lightgrey\" stroke-dasharray=\"2\" x1=\"110.0\" x2=\"209.0\" y1=\"195.0\" y2=\"195.0\" /><line stroke=\"lightgrey\" stroke-dasharray=\"2\" x1=\"170.0\" x2=\"209.0\" y1=\"215.0\" y2=\"215.0\" /><line stroke=\"lightgrey\" stroke-dasharray=\"2\" x1=\"130.0\" x2=\"209.0\" y1=\"235.0\" y2=\"235.0\" /><line stroke=\"lightgrey\" stroke-dasharray=\"2\" x1=\"130.0\" x2=\"209.0\" y1=\"255.0\" y2=\"255.0\" /></g><g><line stroke=\"#c653c6\" stroke-width=\"2.0\" x1=\"95.0\" x2=\"95.0\" y1=\"115.0\" y2=\"195.0\" /><line stroke=\"#53c653\" stroke-width=\"2.0\" x1=\"155.0\" x2=\"155.0\" y1=\"55.0\" y2=\"180.0\" /><line stroke=\"#d9d98c\" stroke-width=\"2.0\" x1=\"35.0\" x2=\"35.0\" y1=\"175.0\" y2=\"220.0\" /><line stroke=\"#5353c6\" stroke-width=\"2.0\" x1=\"115.0\" x2=\"115.0\" y1=\"95.0\" y2=\"235.0\" /><line stroke=\"#c6c653\" stroke-width=\"2.0\" x1=\"175.0\" x2=\"175.0\" y1=\"35.0\" y2=\"220.0\" /><line stroke=\"#d98c8c\" stroke-width=\"2.0\" x1=\"55.0\" x2=\"55.0\" y1=\"155.0\" y2=\"240.0\" /><line stroke=\"#c65353\" stroke-width=\"2.0\" x1=\"75.0\" x2=\"75.0\" y1=\"135.0\" y2=\"240.0\" /><line stroke=\"#8cd98c\" stroke-width=\"2.0\" x1=\"95.0\" x2=\"95.0\" y1=\"195.0\" y2=\"240.0\" /><line stroke=\"#8c8cd9\" stroke-width=\"2.0\" x1=\"115.0\" x2=\"115.0\" y1=\"235.0\" y2=\"255.0\" /><line stroke=\"#53c6c6\" stroke-width=\"2.0\" x1=\"135.0\" x2=\"135.0\" y1=\"75.0\" y2=\"240.0\" /><line stroke=\"#8cd9d9\" stroke-width=\"2.0\" x1=\"155.0\" x2=\"155.0\" y1=\"215.0\" y2=\"240.0\" /><line stroke=\"#c65353\" stroke-width=\"2.0\" x1=\"195.0\" x2=\"195.0\" y1=\"15.0\" y2=\"240.0\" /></g><g><line stroke=\"white\" stroke-width=\"6.0\" x1=\"175.0\" x2=\"180.0\" y1=\"35.0\" y2=\"35.0\" /><line stroke=\"white\" stroke-width=\"6.0\" x1=\"155.0\" x2=\"180.0\" y1=\"55.0\" y2=\"55.0\" /><line stroke=\"white\" stroke-width=\"6.0\" x1=\"135.0\" x2=\"180.0\" y1=\"75.0\" y2=\"75.0\" /><line stroke=\"white\" stroke-width=\"6.0\" x1=\"115.0\" x2=\"160.0\" y1=\"95.0\" y2=\"95.0\" /><line stroke=\"white\" stroke-width=\"6.0\" x1=\"95.0\" x2=\"180.0\" y1=\"115.0\" y2=\"115.0\" /><line stroke=\"white\" stroke-width=\"6.0\" x1=\"75.0\" x2=\"180.0\" y1=\"135.0\" y2=\"135.0\" /><line stroke=\"white\" stroke-width=\"6.0\" x1=\"55.0\" x2=\"120.0\" y1=\"155.0\" y2=\"155.0\" /><line stroke=\"white\" stroke-width=\"6.0\" x1=\"35.0\" x2=\"180.0\" y1=\"175.0\" y2=\"175.0\" /><line stroke=\"white\" stroke-width=\"6.0\" x1=\"70.0\" x2=\"95.0\" y1=\"195.0\" y2=\"195.0\" /><line stroke=\"white\" stroke-width=\"6.0\" x1=\"95.0\" x2=\"180.0\" y1=\"195.0\" y2=\"195.0\" /><line stroke=\"white\" stroke-width=\"6.0\" x1=\"50.0\" x2=\"155.0\" y1=\"215.0\" y2=\"215.0\" /><line stroke=\"white\" stroke-width=\"6.0\" x1=\"50.0\" x2=\"115.0\" y1=\"235.0\" y2=\"235.0\" /><line stroke=\"white\" stroke-width=\"6.0\" x1=\"115.0\" x2=\"180.0\" y1=\"235.0\" y2=\"235.0\" /><line stroke=\"white\" stroke-width=\"6.0\" x1=\"70.0\" x2=\"115.0\" y1=\"255.0\" y2=\"255.0\" /><line stroke=\"white\" stroke-width=\"6.0\" x1=\"115.0\" x2=\"180.0\" y1=\"255.0\" y2=\"255.0\" /></g><g><path d=\"M 195.0,20.0 a15.0,15.0 0 0,1 -15.0,15.0\" fill=\"none\" stroke=\"#c65353\" stroke-width=\"2.0\" /><line stroke=\"#c65353\" stroke-width=\"2.0\" x1=\"175.0\" x2=\"180.0\" y1=\"35.0\" y2=\"35.0\" /><path d=\"M 175.0,40.0 a15.0,15.0 0 0,1 -15.0,15.0\" fill=\"none\" stroke=\"#c6c653\" stroke-width=\"2.0\" /><path d=\"M 195.0,40.0 a15.0,15.0 0 0,1 -15.0,15.0\" fill=\"none\" stroke=\"#c65353\" stroke-width=\"2.0\" /><line stroke=\"#c65353\" stroke-width=\"2.0\" x1=\"155.0\" x2=\"180.0\" y1=\"55.0\" y2=\"55.0\" /><path d=\"M 175.0,60.0 a15.0,15.0 0 0,1 -15.0,15.0\" fill=\"none\" stroke=\"#c6c653\" stroke-width=\"2.0\" /><path d=\"M 195.0,60.0 a15.0,15.0 0 0,1 -15.0,15.0\" fill=\"none\" stroke=\"#c65353\" stroke-width=\"2.0\" /><line stroke=\"#c65353\" stroke-width=\"2.0\" x1=\"135.0\" x2=\"180.0\" y1=\"75.0\" y2=\"75.0\" /><path d=\"M 155.0,80.0 a15.0,15.0 0 0,1 -15.0,15.0\" fill=\"none\" stroke=\"#53c653\" stroke-width=\"2.0\" /><path d=\"M 175.0,80.0 a15.0,15.0 0 0,1 -15.0,15.0\" fill=\"none\" stroke=\"#c6c653\" stroke-width=\"2.0\" /><line stroke=\"#c6c653\" stroke-width=\"2.0\" x1=\"115.0\" x2=\"160.0\" y1=\"95.0\" y2=\"95.0\" /><path d=\"M 135.0,100.0 a15.0,15.0 0 0,1 -15.0,15.0\" fill=\"none\" stroke=\"#53c6c6\" stroke-width=\"2.0\" /><path d=\"M 155.0,100.0 a15.0,15.0 0 0,1 -15.0,15.0\" fill=\"none\" stroke=\"#53c653\" stroke-width=\"2.0\" /><path d=\"M 195.0,100.0 a15.0,15.0 0 0,1 -15.0,15.0\" fill=\"none\" stroke=\"#c65353\" stroke-width=\"2.0\" /><line stroke=\"#c65353\" stroke-width=\"2.0\" x1=\"95.0\" x2=\"180.0\" y1=\"115.0\" y2=\"115.0\" /><path d=\"M 135.0,120.0 a15.0,15.0 0 0,1 -15.0,15.0\" fill=\"none\" stroke=\"#53c6c6\" stroke-width=\"2.0\" /><path d=\"M 155.0,120.0 a15.0,15.0 0 0,1 -15.0,15.0\" fill=\"none\" stroke=\"#53c653\" stroke-width=\"2.0\" /><path d=\"M 195.0,120.0 a15.0,15.0 0 0,1 -15.0,15.0\" fill=\"none\" stroke=\"#c65353\" stroke-width=\"2.0\" /><line stroke=\"#c65353\" stroke-width=\"2.0\" x1=\"75.0\" x2=\"180.0\" y1=\"135.0\" y2=\"135.0\" /><path d=\"M 95.0,140.0 a15.0,15.0 0 0,1 -15.0,15.0\" fill=\"none\" stroke=\"#c653c6\" stroke-width=\"2.0\" /><path d=\"M 115.0,140.0 a15.0,15.0 0 0,1 -15.0,15.0\" fill=\"none\" stroke=\"#5353c6\" stroke-width=\"2.0\" /><path d=\"M 135.0,140.0 a15.0,15.0 0 0,1 -15.0,15.0\" fill=\"none\" stroke=\"#53c6c6\" stroke-width=\"2.0\" /><line stroke=\"#53c6c6\" stroke-width=\"2.0\" x1=\"55.0\" x2=\"120.0\" y1=\"155.0\" y2=\"155.0\" /><path d=\"M 75.0,160.0 a15.0,15.0 0 0,1 -15.0,15.0\" fill=\"none\" stroke=\"#c65353\" stroke-width=\"2.0\" /><path d=\"M 95.0,160.0 a15.0,15.0 0 0,1 -15.0,15.0\" fill=\"none\" stroke=\"#c653c6\" stroke-width=\"2.0\" /><path d=\"M 175.0,160.0 a15.0,15.0 0 0,1 -15.0,15.0\" fill=\"none\" stroke=\"#c6c653\" stroke-width=\"2.0\" /><path d=\"M 195.0,160.0 a15.0,15.0 0 0,1 -15.0,15.0\" fill=\"none\" stroke=\"#c65353\" stroke-width=\"2.0\" /><line stroke=\"#c65353\" stroke-width=\"2.0\" x1=\"35.0\" x2=\"180.0\" y1=\"175.0\" y2=\"175.0\" /><path d=\"M 55.0,180.0 a15.0,15.0 0 0,0 15.0,15.0\" fill=\"none\" stroke=\"#d98c8c\" stroke-width=\"2.0\" /><line stroke=\"#d98c8c\" stroke-width=\"2.0\" x1=\"70.0\" x2=\"95.0\" y1=\"195.0\" y2=\"195.0\" /><path d=\"M 115.0,180.0 a15.0,15.0 0 0,1 -15.0,15.0\" fill=\"none\" stroke=\"#5353c6\" stroke-width=\"2.0\" /><path d=\"M 155.0,180.0 a15.0,15.0 0 0,1 -15.0,15.0\" fill=\"none\" stroke=\"#53c653\" stroke-width=\"2.0\" /><path d=\"M 195.0,180.0 a15.0,15.0 0 0,1 -15.0,15.0\" fill=\"none\" stroke=\"#c65353\" stroke-width=\"2.0\" /><line stroke=\"#c65353\" stroke-width=\"2.0\" x1=\"95.0\" x2=\"180.0\" y1=\"195.0\" y2=\"195.0\" /><path d=\"M 35.0,200.0 a15.0,15.0 0 0,0 15.0,15.0\" fill=\"none\" stroke=\"#d9d98c\" stroke-width=\"2.0\" /><path d=\"M 55.0,200.0 a15.0,15.0 0 0,0 15.0,15.0\" fill=\"none\" stroke=\"#d98c8c\" stroke-width=\"2.0\" /><path d=\"M 75.0,200.0 a15.0,15.0 0 0,0 15.0,15.0\" fill=\"none\" stroke=\"#c65353\" stroke-width=\"2.0\" /><path d=\"M 115.0,200.0 a15.0,15.0 0 0,0 15.0,15.0\" fill=\"none\" stroke=\"#5353c6\" stroke-width=\"2.0\" /><line stroke=\"#d9d98c\" stroke-width=\"2.0\" x1=\"50.0\" x2=\"155.0\" y1=\"215.0\" y2=\"215.0\" /><path d=\"M 35.0,220.0 a15.0,15.0 0 0,0 15.0,15.0\" fill=\"none\" stroke=\"#d9d98c\" stroke-width=\"2.0\" /><path d=\"M 95.0,220.0 a15.0,15.0 0 0,0 15.0,15.0\" fill=\"none\" stroke=\"#8cd98c\" stroke-width=\"2.0\" /><line stroke=\"#d9d98c\" stroke-width=\"2.0\" x1=\"50.0\" x2=\"115.0\" y1=\"235.0\" y2=\"235.0\" /><path d=\"M 155.0,220.0 a15.0,15.0 0 0,1 -15.0,15.0\" fill=\"none\" stroke=\"#8cd9d9\" stroke-width=\"2.0\" /><path d=\"M 175.0,220.0 a15.0,15.0 0 0,1 -15.0,15.0\" fill=\"none\" stroke=\"#c6c653\" stroke-width=\"2.0\" /><path d=\"M 195.0,220.0 a15.0,15.0 0 0,1 -15.0,15.0\" fill=\"none\" stroke=\"#c65353\" stroke-width=\"2.0\" /><line stroke=\"#c65353\" stroke-width=\"2.0\" x1=\"115.0\" x2=\"180.0\" y1=\"235.0\" y2=\"235.0\" /><path d=\"M 55.0,240.0 a15.0,15.0 0 0,0 15.0,15.0\" fill=\"none\" stroke=\"#d98c8c\" stroke-width=\"2.0\" /><path d=\"M 75.0,240.0 a15.0,15.0 0 0,0 15.0,15.0\" fill=\"none\" stroke=\"#c65353\" stroke-width=\"2.0\" /><path d=\"M 95.0,240.0 a15.0,15.0 0 0,0 15.0,15.0\" fill=\"none\" stroke=\"#8cd98c\" stroke-width=\"2.0\" /><line stroke=\"#d98c8c\" stroke-width=\"2.0\" x1=\"70.0\" x2=\"115.0\" y1=\"255.0\" y2=\"255.0\" /><path d=\"M 135.0,240.0 a15.0,15.0 0 0,1 -15.0,15.0\" fill=\"none\" stroke=\"#53c6c6\" stroke-width=\"2.0\" /><path d=\"M 155.0,240.0 a15.0,15.0 0 0,1 -15.0,15.0\" fill=\"none\" stroke=\"#8cd9d9\" stroke-width=\"2.0\" /><path d=\"M 195.0,240.0 a15.0,15.0 0 0,1 -15.0,15.0\" fill=\"none\" stroke=\"#c65353\" stroke-width=\"2.0\" /><line stroke=\"#c65353\" stroke-width=\"2.0\" x1=\"115.0\" x2=\"180.0\" y1=\"255.0\" y2=\"255.0\" /></g><g><circle cx=\"195.0\" cy=\"15.0\" fill=\"#c65353\" id=\"N0\" r=\"6.0\" stroke=\"white\" stroke-width=\"2.0\" /><text dominant-baseline=\"middle\" font-family=\"sans-serif\" font-size=\"inherit\" x=\"215.0\" y=\"15.0\">0</text><circle cx=\"175.0\" cy=\"35.0\" fill=\"#c6c653\" id=\"N3\" r=\"6.0\" stroke=\"white\" stroke-width=\"2.0\" /><text dominant-baseline=\"middle\" font-family=\"sans-serif\" font-size=\"inherit\" x=\"215.0\" y=\"35.0\">3</text><circle cx=\"155.0\" cy=\"55.0\" fill=\"#53c653\" id=\"N1\" r=\"6.0\" stroke=\"white\" stroke-width=\"2.0\" /><text dominant-baseline=\"middle\" font-family=\"sans-serif\" font-size=\"inherit\" x=\"215.0\" y=\"55.0\">1</text><circle cx=\"135.0\" cy=\"75.0\" fill=\"#53c6c6\" id=\"N5\" r=\"6.0\" stroke=\"white\" stroke-width=\"2.0\" /><text dominant-baseline=\"middle\" font-family=\"sans-serif\" font-size=\"inherit\" x=\"215.0\" y=\"75.0\">5</text><circle cx=\"115.0\" cy=\"95.0\" fill=\"#5353c6\" id=\"N7\" r=\"6.0\" stroke=\"white\" stroke-width=\"2.0\" /><text dominant-baseline=\"middle\" font-family=\"sans-serif\" font-size=\"inherit\" x=\"215.0\" y=\"95.0\">7</text><circle cx=\"95.0\" cy=\"115.0\" fill=\"#c653c6\" id=\"N2\" r=\"6.0\" stroke=\"white\" stroke-width=\"2.0\" /><text dominant-baseline=\"middle\" font-family=\"sans-serif\" font-size=\"inherit\" x=\"215.0\" y=\"115.0\">2</text><circle cx=\"75.0\" cy=\"135.0\" fill=\"#c65353\" id=\"N6\" r=\"6.0\" stroke=\"white\" stroke-width=\"2.0\" /><text dominant-baseline=\"middle\" font-family=\"sans-serif\" font-size=\"inherit\" x=\"215.0\" y=\"135.0\">6</text><circle cx=\"55.0\" cy=\"155.0\" fill=\"#d98c8c\" id=\"N8\" r=\"6.0\" stroke=\"white\" stroke-width=\"2.0\" /><text dominant-baseline=\"middle\" font-family=\"sans-serif\" font-size=\"inherit\" x=\"215.0\" y=\"155.0\">8</text><circle cx=\"35.0\" cy=\"175.0\" fill=\"#d9d98c\" id=\"N4\" r=\"6.0\" stroke=\"white\" stroke-width=\"2.0\" /><text dominant-baseline=\"middle\" font-family=\"sans-serif\" font-size=\"inherit\" x=\"215.0\" y=\"175.0\">4</text><circle cx=\"95.0\" cy=\"195.0\" fill=\"#8cd98c\" id=\"N10\" r=\"6.0\" stroke=\"white\" stroke-width=\"2.0\" /><text dominant-baseline=\"middle\" font-family=\"sans-serif\" font-size=\"inherit\" x=\"215.0\" y=\"195.0\">10</text><circle cx=\"155.0\" cy=\"215.0\" fill=\"#8cd9d9\" id=\"N9\" r=\"6.0\" stroke=\"white\" stroke-width=\"2.0\" /><text dominant-baseline=\"middle\" font-family=\"sans-serif\" font-size=\"inherit\" x=\"215.0\" y=\"215.0\">9</text><circle cx=\"115.0\" cy=\"235.0\" fill=\"#8c8cd9\" id=\"N11\" r=\"6.0\" stroke=\"white\" stroke-width=\"2.0\" /><text dominant-baseline=\"middle\" font-family=\"sans-serif\" font-size=\"inherit\" x=\"215.0\" y=\"235.0\">11</text><circle cx=\"115.0\" cy=\"255.0\" fill=\"#d98cd9\" id=\"N12\" r=\"6.0\" stroke=\"white\" stroke-width=\"2.0\" /><text dominant-baseline=\"middle\" font-family=\"sans-serif\" font-size=\"inherit\" x=\"215.0\" y=\"255.0\">12</text></g></svg>"
            ]
          },
          "metadata": {}
        },
        {
          "output_type": "display_data",
          "data": {
            "text/plain": [
              "<Figure size 1000x1000 with 0 Axes>"
            ]
          },
          "metadata": {}
        },
        {
          "output_type": "display_data",
          "data": {
            "text/plain": [
              "<Figure size 640x480 with 16 Axes>"
            ],
            "image/png": "[encoded data removed]"
          },
          "metadata": {}
        }
      ]
    },
    {
      "cell_type": "code",
      "source": [
        "# for mat_id in range(len(d_space)):\n",
        "#     mat = d_space[mat_id]\n",
        "#     plt.figure()\n",
        "#     cmap = colors.ListedColormap(['white', 'tab:blue'])\n",
        "#     plt.imshow(mat, cmap=cmap)\n",
        "#     plt.xticks([])\n",
        "#     plt.yticks([])\n",
        "#     #plt.tight_layout()\n",
        "#     plt.gca().set_axis_off()\n",
        "#     plt.subplots_adjust(top=1, bottom=0, right=1, left=0, hspace=0, wspace=0)\n",
        "#     plt.margins(0, 0)\n",
        "#     plt.gca().xaxis.set_major_locator(plt.NullLocator())\n",
        "#     plt.gca().yaxis.set_major_locator(plt.NullLocator())\n",
        "#     #plt.savefig(f\"filename.png\", transparent=True, bbox_inches=\"tight\", pad_inches=0)\n",
        "#     plt.savefig('mat_'+str(mat_id)+'_'+str(round(deg_assortativity(mat), 4))+'.pdf', format='pdf', transparent=True, bbox_inches=\"tight\", pad_inches=0)\n"
      ],
      "metadata": {
        "id": "z9EwHjmH2ihU"
      },
      "execution_count": null,
      "outputs": []
    },
    {
      "cell_type": "code",
      "source": [
        "for mat_id in range(len(d_space)):\n",
        "    mat = d_space[mat_id]\n",
        "    plt.figure()\n",
        "    cmap = colors.ListedColormap(['white', 'tab:blue'])\n",
        "    plt.imshow(mat, cmap=cmap)\n",
        "    plt.xticks([])\n",
        "    plt.yticks([])\n",
        "    #plt.tight_layout()\n",
        "    plt.gca().set_axis_off()\n",
        "    plt.subplots_adjust(top=1, bottom=0, right=1, left=0, hspace=0, wspace=0)\n",
        "    plt.margins(0, 0)\n",
        "    plt.gca().xaxis.set_major_locator(plt.NullLocator())\n",
        "    plt.gca().yaxis.set_major_locator(plt.NullLocator())\n",
        "    #plt.savefig(f\"filename.png\", transparent=True, bbox_inches=\"tight\", pad_inches=0)\n",
        "    plt.savefig('mat_'+str(mat_id)+'_'+str(round(deg_assortativity(mat), 4))+'.pdf', format='pdf', transparent=True, bbox_inches=\"tight\", pad_inches=0)\n",
        "print(d_space_r)\n",
        "m = np.sum(A)/2.0\n",
        "sort_idxes = np.argsort(d_space_r)\n",
        "for idx in sort_idxes:\n",
        "    print(idx, d_space_r[idx])"
      ],
      "metadata": {
        "id": "srs1JZZXo8Kg"
      },
      "execution_count": null,
      "outputs": []
    },
    {
      "cell_type": "code",
      "source": [
        "# plt.gca().set_axis_off()\n",
        "# plt.subplots_adjust(top=1, bottom=0, right=1, left=0, hspace=0, wspace=0)\n",
        "# plt.margins(0, 0)\n",
        "# plt.gca().xaxis.set_major_locator(plt.NullLocator())\n",
        "# plt.gca().yaxis.set_major_locator(plt.NullLocator())\n",
        "# plt.savefig(f\"filename.png\", transparent=True, bbox_inches=\"tight\", pad_inches=0)\n",
        "# plt.cla()"
      ],
      "metadata": {
        "id": "nqjIe993XmAw"
      },
      "execution_count": null,
      "outputs": []
    }
  ]
}