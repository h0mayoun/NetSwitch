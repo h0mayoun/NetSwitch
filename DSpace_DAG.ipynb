{
  "nbformat": 4,
  "nbformat_minor": 0,
  "metadata": {
    "colab": {
      "provenance": [],
      "authorship_tag": "ABX9TyMLm1Ua/XsmOQFNGGp637se"
    },
    "kernelspec": {
      "name": "python3",
      "display_name": "Python 3"
    },
    "language_info": {
      "name": "python"
    }
  },
  "cells": [
    {
      "cell_type": "code",
      "source": [
        "!pip install dagviz\n",
        "import dagviz\n",
        "from dagviz import render_svg\n",
        "from dagviz.style.metro import svg_renderer, StyleConfig"
      ],
      "metadata": {
        "id": "lTmmdeuio2Kj",
        "colab": {
          "base_uri": "https://localhost:8080/"
        },
        "outputId": "40f02a6a-8f8f-44b6-a4d8-1986099c4527"
      },
      "execution_count": 1,
      "outputs": [
        {
          "output_type": "stream",
          "name": "stdout",
          "text": [
            "Collecting dagviz\n",
            "  Downloading dagviz-0.4.0-py3-none-any.whl (14 kB)\n",
            "Collecting networkx<3.0.0,>=2.5.1 (from dagviz)\n",
            "  Downloading networkx-2.8.8-py3-none-any.whl (2.0 MB)\n",
            "\u001b[2K     \u001b[90m━━━━━━━━━━━━━━━━━━━━━━━━━━━━━━━━━━━━━━━━\u001b[0m \u001b[32m2.0/2.0 MB\u001b[0m \u001b[31m9.6 MB/s\u001b[0m eta \u001b[36m0:00:00\u001b[0m\n",
            "\u001b[?25hCollecting svgwrite<2.0.0,>=1.4.1 (from dagviz)\n",
            "  Downloading svgwrite-1.4.3-py3-none-any.whl (67 kB)\n",
            "\u001b[2K     \u001b[90m━━━━━━━━━━━━━━━━━━━━━━━━━━━━━━━━━━━━━━━━\u001b[0m \u001b[32m67.1/67.1 kB\u001b[0m \u001b[31m5.7 MB/s\u001b[0m eta \u001b[36m0:00:00\u001b[0m\n",
            "\u001b[?25hInstalling collected packages: svgwrite, networkx, dagviz\n",
            "  Attempting uninstall: networkx\n",
            "    Found existing installation: networkx 3.2.1\n",
            "    Uninstalling networkx-3.2.1:\n",
            "      Successfully uninstalled networkx-3.2.1\n",
            "\u001b[31mERROR: pip's dependency resolver does not currently take into account all the packages that are installed. This behaviour is the source of the following dependency conflicts.\n",
            "lida 0.0.10 requires fastapi, which is not installed.\n",
            "lida 0.0.10 requires kaleido, which is not installed.\n",
            "lida 0.0.10 requires python-multipart, which is not installed.\n",
            "lida 0.0.10 requires uvicorn, which is not installed.\u001b[0m\u001b[31m\n",
            "\u001b[0mSuccessfully installed dagviz-0.4.0 networkx-2.8.8 svgwrite-1.4.3\n"
          ]
        }
      ]
    },
    {
      "cell_type": "code",
      "source": [
        "import numpy as np\n",
        "import matplotlib.pyplot as plt\n",
        "from matplotlib import colors\n",
        "import networkx as nx"
      ],
      "metadata": {
        "id": "nfYOaSR4KbM6"
      },
      "execution_count": 2,
      "outputs": []
    },
    {
      "cell_type": "code",
      "source": [
        "def degree_seq(adj):\n",
        "    return np.sum(adj, axis=0)\n",
        "\n",
        "def deg_assortativity(adj):\n",
        "    # Calculations based on PHYSICAL REVIEW E 84, 047101 (2011)\n",
        "    n = len(adj)\n",
        "    m = np.sum(adj)/2.0\n",
        "    deg = degree_seq(adj)\n",
        "    M2, di1, di2 = 0, 0, 0\n",
        "    for i in range(n-1):\n",
        "        for j in range(i+1, n):\n",
        "            if adj[i, j] == 1:\n",
        "                M2 += deg[i] * deg[j]\n",
        "                di1 += (deg[i] + deg[j])/2.0\n",
        "                di2 += (deg[i]**2 + deg[j]**2)/2.0\n",
        "    #di2 = ((np.sum(deg**2)/2)**2)/m\n",
        "    #return (M2 - di2) / ((np.sum(deg**3)/2) - di2)\n",
        "    di1 = (di1/m) ** 2\n",
        "    di2 /= m\n",
        "    M2 /= m\n",
        "    return (M2 - di1)/(di2 - di1)\n",
        "\n",
        "def switch_4e(adj, e1, e2, e3, e4):\n",
        "    mat = np.copy(adj)\n",
        "    mat[e1[0], e1[1]], mat[e1[1], e1[0]], mat[e2[0], e2[1]], mat[e2[1], e2[0]] = 0, 0, 0, 0\n",
        "    mat[e3[0], e3[1]], mat[e3[1], e3[0]], mat[e4[0], e4[1]], mat[e4[1], e4[0]] = 1, 1, 1, 1\n",
        "    return mat\n",
        "\n",
        "def switch_checkerboard(adj, i, j, k, l):\n",
        "    mat = np.copy(adj)\n",
        "    mat[i, k], mat[k, i], mat[j, k], mat[k, j] = 1-mat[i, k], 1-mat[k, i], 1-mat[j, k], 1-mat[k, j]\n",
        "    mat[i, l], mat[l, i], mat[j, l], mat[l, j] = 1-mat[i, l], 1-mat[l, i], 1-mat[j, l], 1-mat[l, j]\n",
        "    return mat\n",
        "\n",
        "def is_checkerboard(ik, il, jk, jl):\n",
        "    if ik == jl and il == jk and ik == 1-jk:\n",
        "        return True\n",
        "    else:\n",
        "        return False\n",
        "\n",
        "def find_adj(adj, mat_list):\n",
        "    for i in range(len(mat_list)):\n",
        "        if np.array_equal(adj, mat_list[i]):\n",
        "            return i\n",
        "    return -1\n",
        "\n",
        "def all_next_switches_XBS(adj):\n",
        "    adj_r = deg_assortativity(adj)\n",
        "    next_swt = []\n",
        "    swt_type = []\n",
        "    edgeIdxs = np.where(adj==1)\n",
        "    edgeIdxs = [(edgeIdxs[0][i], edgeIdxs[1][i]) for i in range(len(edgeIdxs[0])) if edgeIdxs[0][i]<edgeIdxs[1][i]]\n",
        "    for e1_idx in range(len(edgeIdxs)-1):\n",
        "        for e2_idx in range(e1_idx+1, len(edgeIdxs)):\n",
        "            e1, e2 = edgeIdxs[e1_idx], edgeIdxs[e2_idx]\n",
        "            if len(set(e1+e2)) != 4:\n",
        "                continue\n",
        "            swt_options = [(e1[0], e2[0], e1[1], e2[1]), (e1[0], e2[1], e1[1], e2[0])]\n",
        "            for opt in swt_options:\n",
        "                if (adj[opt[0], opt[1]] == 1) or (adj[opt[2], opt[3]] == 1):\n",
        "                    continue\n",
        "                new_adj = switch_4e(adj, e1, e2, (opt[0], opt[1]), (opt[2], opt[3]))\n",
        "                new_r =  deg_assortativity(new_adj)\n",
        "                if adj_r < new_r:\n",
        "                    swt_type.append(True)\n",
        "                elif adj_r > new_r:\n",
        "                    swt_type.append(False)\n",
        "                else:\n",
        "                    if (opt[0] * opt[1] + opt[2]* opt[3]) - (e1[0] * e1[1] + e2[0] * e2[1]) > 0:\n",
        "                        swt_type.append(True)\n",
        "                    else:\n",
        "                        swt_type.append(False)\n",
        "                next_swt.append(new_adj)\n",
        "    return next_swt, swt_type\n",
        "\n",
        "def all_next_switches(adj):\n",
        "    adj_r = deg_assortativity(adj)\n",
        "    n = len(adj)\n",
        "    next_swt = []\n",
        "    swt_type = []\n",
        "    for row1 in range(n-1):\n",
        "        for row2 in range(row1+1, n):\n",
        "            for col1 in range(row1+1, n-1):\n",
        "                if row2 == col1:\n",
        "                    continue\n",
        "                for col2 in range(col1+1, n):\n",
        "                    if row2 == col2:\n",
        "                        continue\n",
        "                    if is_checkerboard(adj[row1, col1], adj[row1, col2], adj[row2, col1], adj[row2, col2]):\n",
        "                        new_adj = switch_checkerboard(adj, row1, row2, col1, col2)\n",
        "                        new_r =  deg_assortativity(new_adj)\n",
        "                        if adj[row1, col1] == 0:\n",
        "                            swt_type.append(True)\n",
        "                        else:\n",
        "                            swt_type.append(False)\n",
        "                        next_swt.append(new_adj)\n",
        "    return next_swt, swt_type"
      ],
      "metadata": {
        "id": "vK5Nk7ADnnVW"
      },
      "execution_count": 3,
      "outputs": []
    },
    {
      "cell_type": "code",
      "source": [
        "A = [[0, 0, 1, 1, 1, 1, 0],\n",
        "     [0, 0, 1, 1, 0, 0, 1],\n",
        "     [1, 1, 0, 0, 0, 0, 0],\n",
        "     [1, 1, 0, 0, 0, 0, 0],\n",
        "     [1, 0, 0, 0, 0, 0, 0],\n",
        "     [1, 0, 0, 0, 0, 0, 0],\n",
        "     [0, 1, 0, 0, 0, 0, 0]]\n",
        "A = [[0, 0, 1, 1, 1, 1],\n",
        "     [0, 0, 1, 1, 1, 0],\n",
        "     [1, 1, 0, 0, 0, 0],\n",
        "     [1, 1, 0, 0, 0, 0],\n",
        "     [1, 1, 0, 0, 0, 0],\n",
        "     [1, 0, 0, 0, 0, 0]]\n",
        "\n",
        "#G=nx.from_numpy_array(np.array(A))\n",
        "A = np.array(A)\n",
        "\n",
        "d_space = []\n",
        "d_space_arcs = []\n",
        "d_space_r = []\n",
        "d_space.append(A)\n",
        "d_space_r.append(deg_assortativity(A))\n",
        "d_space_pointer = 0\n",
        "\n",
        "while d_space_pointer < len(d_space):\n",
        "  nxt_swts, nxt_arcs = all_next_switches(d_space[d_space_pointer])\n",
        "  for nxtswt_idx in range(len(nxt_swts)):\n",
        "      nxt_swt = nxt_swts[nxtswt_idx]\n",
        "      dspace_adj_index = find_adj(nxt_swt, d_space)\n",
        "      if dspace_adj_index == -1:\n",
        "          d_space.append(nxt_swt)\n",
        "          d_space_r.append(deg_assortativity(nxt_swt))\n",
        "          dspace_adj_index = len(d_space)-1\n",
        "      if nxt_arcs[nxtswt_idx]:\n",
        "          if (d_space_pointer, dspace_adj_index) not in d_space_arcs:\n",
        "              d_space_arcs.append((d_space_pointer, dspace_adj_index))\n",
        "      else:\n",
        "          if (dspace_adj_index, d_space_pointer) not in d_space_arcs:\n",
        "              d_space_arcs.append((dspace_adj_index, d_space_pointer))\n",
        "  d_space_pointer += 1\n"
      ],
      "metadata": {
        "id": "qMVFBxY0mrkV"
      },
      "execution_count": 4,
      "outputs": []
    },
    {
      "cell_type": "code",
      "source": [
        "for mat_id in range(len(d_space)):\n",
        "    mat = d_space[mat_id]\n",
        "    plt.figure()\n",
        "    cmap = colors.ListedColormap(['white', 'tab:blue'])\n",
        "    plt.imshow(mat, cmap=cmap)\n",
        "    plt.xticks([])\n",
        "    plt.yticks([])\n",
        "    #plt.tight_layout()\n",
        "    plt.gca().set_axis_off()\n",
        "    plt.subplots_adjust(top=1, bottom=0, right=1, left=0, hspace=0, wspace=0)\n",
        "    plt.margins(0, 0)\n",
        "    plt.gca().xaxis.set_major_locator(plt.NullLocator())\n",
        "    plt.gca().yaxis.set_major_locator(plt.NullLocator())\n",
        "    #plt.savefig(f\"filename.png\", transparent=True, bbox_inches=\"tight\", pad_inches=0)\n",
        "    plt.savefig('mat_'+str(mat_id)+'_'+str(round(deg_assortativity(mat), 4))+'.pdf', format='pdf', transparent=True, bbox_inches=\"tight\", pad_inches=0)\n",
        "print(d_space_r)\n",
        "m = np.sum(A)/2.0\n",
        "sort_idxes = np.argsort(d_space_r)\n",
        "for idx in sort_idxes:\n",
        "    print(idx, d_space_r[idx])"
      ],
      "metadata": {
        "id": "srs1JZZXo8Kg"
      },
      "execution_count": null,
      "outputs": []
    },
    {
      "cell_type": "code",
      "source": [
        "print(d_space_arcs)"
      ],
      "metadata": {
        "colab": {
          "base_uri": "https://localhost:8080/"
        },
        "id": "7XTKblqxejaw",
        "outputId": "e6385295-04d3-4796-e26b-af0097106f43"
      },
      "execution_count": null,
      "outputs": [
        {
          "output_type": "stream",
          "name": "stdout",
          "text": [
            "[(0, 1), (0, 2), (0, 3), (0, 4), (0, 5), (0, 6), (0, 7), (0, 8), (0, 9), (1, 3), (1, 6), (1, 10), (1, 8), (1, 2), (2, 4), (2, 5), (2, 11), (2, 9), (3, 5), (3, 10), (3, 7), (3, 4), (4, 6), (4, 12), (4, 9), (5, 11), (5, 7), (5, 6), (6, 12), (6, 8), (7, 8), (10, 7), (7, 9), (11, 7), (10, 8), (8, 9), (12, 8), (11, 9), (12, 9), (10, 12), (10, 11), (11, 12)]\n"
          ]
        }
      ]
    },
    {
      "cell_type": "code",
      "source": [
        "G = nx.DiGraph()\n",
        "for i in range(len(d_space)):\n",
        "    G.add_node(f\"{i}\")\n",
        "\n",
        "for e in d_space_arcs:\n",
        "    G.add_edge(f\"{e[0]}\", f\"{e[1]}\")\n",
        "\n",
        "dagviz.Metro(G)\n",
        "r = dagviz.render_svg(G, style=svg_renderer(StyleConfig(label_arrow_dash_array=0, label_font_size=0, scale=20, node_radius=0, arc_radius=25)))\n",
        "with open(\"EHS.svg\", \"wt\") as fs:\n",
        "    fs.write(r)"
      ],
      "metadata": {
        "id": "N4NmZaVy-d0v"
      },
      "execution_count": 23,
      "outputs": []
    },
    {
      "cell_type": "code",
      "source": [
        "plt.figure()\n",
        "cmap = colors.ListedColormap(['white', 'tab:blue'])\n",
        "plt.imshow(d_space[1], cmap=cmap)\n",
        "plt.xticks([])\n",
        "plt.yticks([])\n",
        "#plt.tight_layout()\n",
        "plt.gca().set_axis_off()\n",
        "plt.subplots_adjust(top=1, bottom=0, right=1, left=0, hspace=0, wspace=0)\n",
        "plt.margins(0, 0)\n",
        "plt.gca().xaxis.set_major_locator(plt.NullLocator())\n",
        "plt.gca().yaxis.set_major_locator(plt.NullLocator())\n",
        "#plt.savefig(f\"filename.png\", transparent=True, bbox_inches=\"tight\", pad_inches=0)\n",
        "#plt.savefig('A'+str(round(deg_assortativity(A), 4))+'.pdf', format='pdf', transparent=True, bbox_inches=\"tight\", pad_inches=0)\n",
        "#plt.cla()\n",
        "#plt.savefig('A'+str(round(deg_assortativity(mat), 4))+'.pdf', format='pdf')"
      ],
      "metadata": {
        "id": "utwXioid39jY"
      },
      "execution_count": null,
      "outputs": []
    },
    {
      "cell_type": "code",
      "source": [
        "plt.gca().set_axis_off()\n",
        "plt.subplots_adjust(top=1, bottom=0, right=1, left=0, hspace=0, wspace=0)\n",
        "plt.margins(0, 0)\n",
        "plt.gca().xaxis.set_major_locator(plt.NullLocator())\n",
        "plt.gca().yaxis.set_major_locator(plt.NullLocator())\n",
        "plt.savefig(f\"filename.png\", transparent=True, bbox_inches=\"tight\", pad_inches=0)\n",
        "plt.cla()"
      ],
      "metadata": {
        "id": "nqjIe993XmAw"
      },
      "execution_count": null,
      "outputs": []
    }
  ]
}