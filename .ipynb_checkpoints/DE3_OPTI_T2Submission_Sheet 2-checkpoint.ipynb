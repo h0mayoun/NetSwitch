{
 "cells": [
  {
   "cell_type": "code",
   "execution_count": null,
   "metadata": {
    "id": "uHIidZmGfvcU"
   },
   "outputs": [],
   "source": [
    "import numpy as np\n",
    "import pandas as pd\n",
    "import matplotlib.pyplot as plt\n",
    "from sklearn.linear_model import LinearRegression"
   ]
  },
  {
   "cell_type": "markdown",
   "metadata": {
    "id": "m5bZH7sYqH7H"
   },
   "source": [
    "## Question 3\n",
    "\n",
    "Construct linear regression models to predict the quality of red and white wine from the chemical components that make them up.\n",
    "\n",
    "**NB: This problem uses the data sets `red_wine_quality_data.csv` and `white_wine_quality_data.csv` posted on Blackboard** from [[Cortez et al., 2019](https://doi.org/10.1016/j.dss.2009.05.016)\\]. Both data sets have $\\mathbf{x} \\in \\mathbb{R}^{11}$ and $y \\in \\mathbb{R}$.\n",
    "\n",
    "We show two ways to use the data files.\n",
    "\n",
    "1. You can create a folder `./data/` in your local root folder (where your notebook file sits) or in your Colab runtime memory (or your local running directory), download the `.zip` data files, extract and upload them to the created folder.  \n",
    "\n",
    "2. Use the following code to download the dataset automatically:"
   ]
  },
  {
   "cell_type": "code",
   "execution_count": null,
   "metadata": {
    "id": "m5bZH7sYqH7H"
   },
   "outputs": [],
   "source": [
    "import os\n",
    "import urllib.request\n",
    "import zipfile\n",
    "\n",
    "url = \"https://github.com/HaozheTian/HaozheTian.github.io/raw/main/files/wine_quality.zip\"\n",
    "zip_path = os.path.join(\"data\", \"wine_quality.zip\")\n",
    "extract_dir = \"data\"\n",
    "os.makedirs(extract_dir, exist_ok=True)\n",
    "if not os.path.exists(zip_path):\n",
    "    print(\"Downloading file...\")\n",
    "    urllib.request.urlretrieve(url, zip_path)\n",
    "else:\n",
    "    print(\"File already exists.\")\n",
    " \n",
    "with zipfile.ZipFile(zip_path, 'r') as zip_ref:\n",
    "    zip_ref.extractall(extract_dir)\n",
    " \n",
    "print(\"Unzipping completed.\")\n",
    "!ls data"
   ]
  },
  {
   "cell_type": "markdown",
   "metadata": {
    "id": "m5bZH7sYqH7H"
   },
   "source": [
    "Run the following to read the CSV data into numpy array format."
   ]
  },
  {
   "cell_type": "code",
   "execution_count": null,
   "metadata": {
    "id": "m5bZH7sYqH7H"
   },
   "outputs": [],
   "source": [
    "data_red_df = pd.read_csv(os.path.join('data', 'red_wine_quality_data.csv'))\n",
    "data_white_df = pd.read_csv(os.path.join('data', 'white_wine_quality_data.csv'))\n",
    " \n",
    "data_red = data_red_df.values[:, 1:].astype(np.float32)\n",
    "data_white = data_white_df.values[:, 1:].astype(np.float32)\n",
    "data_red, data_white"
   ]
  },
  {
   "cell_type": "markdown",
   "metadata": {
    "id": "MPu8od5Ifc4N"
   },
   "source": [
    "### 3.a\n",
    "\n",
    "1) Set numpy random seed = 1 by calling function `np.random.seed(1)`; 2) shuffle the data sets using shuffled index arrays created by using `np.random.permutation()`; 3) use `np.split()` to split the dataset with $\\text{train}:\\text{test} = 75\\%:25\\%$ (**Note that the split index should be rounded down, i.e. split at** `int(data.shape[0]*0.75)`, and 4) standardize the train and test sets respectively according to the mean and standard deviation of the train set. Show the first 5 samples of the data."
   ]
  },
  {
   "cell_type": "code",
   "execution_count": null,
   "metadata": {
    "id": "aemowh2NfO_l"
   },
   "outputs": [],
   "source": [
    "# Write code here"
   ]
  },
  {
   "cell_type": "markdown",
   "metadata": {
    "id": "Aa8hFT2vypF7"
   },
   "source": [
    "### 3.b\n",
    "\n",
    "Use ```sklearn``` to fit a linear regression model to each training set. Interpret the model by showing which variables matter the most for predicting the quality of red wind. Do the same for white wine."
   ]
  },
  {
   "cell_type": "code",
   "execution_count": null,
   "metadata": {
    "id": "YdyRJjtRz1lQ"
   },
   "outputs": [],
   "source": [
    "# Write code here"
   ]
  },
  {
   "cell_type": "markdown",
   "metadata": {
    "id": "YdyRJjtRz1lQ"
   },
   "source": [
    "Write your answer to which variables are most important here..."
   ]
  },
  {
   "cell_type": "markdown",
   "metadata": {
    "id": "AbxId2XvqsrX"
   },
   "source": [
    "## Question 4\n",
    "\n",
    "You are provided with the following dataset:\n",
    "\n",
    "\\begin{array}{c|c}\n",
    "    x & y \\\\\n",
    "    \\hline\n",
    "    2 & 0.2 \\\\\n",
    "    2.5 & 0.46 \\\\\n",
    "    3 & 1.28 \\\\\n",
    "    3.5 & 1.31 \\\\\n",
    "    4 & 2.71 \\\\\n",
    "    4.5 & 7 \\\\\n",
    "    5 & 8.64 \\\\\n",
    "    5.5 & 14.76 \\\\\n",
    "    6 & 26.85 \\\\\n",
    "\\end{array}"
   ]
  },
  {
   "cell_type": "markdown",
   "metadata": {
    "id": "1gm1iN2pwx38"
   },
   "source": [
    "### 4.a\n",
    "\n",
    "Plot this dataset, and you will see that a linear regression model will not be a good model for this case. Then plot the dataset set of $(x, \\ln(y))$, and you can see that it is close to a linear relationship."
   ]
  },
  {
   "cell_type": "code",
   "execution_count": null,
   "metadata": {
    "id": "hV-TMnr1qrsM"
   },
   "outputs": [],
   "source": [
    "# Write code here"
   ]
  },
  {
   "cell_type": "markdown",
   "metadata": {
    "id": "BIhXVuWNtSOz"
   },
   "source": [
    "### 4.b\n",
    "\n",
    "Find the linear coefficients $\\mathbf{\\beta}$ that fit the dataset $(x, \\ln(y))$.\n",
    "\n",
    "**Note: obtain the analytical solution for this problem.** You can use `numpy` to calculate matrix inverse."
   ]
  },
  {
   "cell_type": "code",
   "execution_count": null,
   "metadata": {
    "id": "R-rPnsAItXgN"
   },
   "outputs": [],
   "source": [
    "# write code here"
   ]
  },
  {
   "cell_type": "markdown",
   "metadata": {
    "id": "NtjqpADCtXo_"
   },
   "source": [
    "### 4. c\n",
    "\n",
    "Convert your linear model into the nonlinear form $y = a \\cdot b^x$ by performing algebraic manipulations in your model from part (b)."
   ]
  },
  {
   "cell_type": "markdown",
   "metadata": {
    "id": "fQrNpCJrvOq3"
   },
   "source": [
    "<font color='red'>Double click to write equation here (change $a$ and $b$ to appropriate values)</font>\n",
    "\n",
    "$$\n",
    "y=a\\cdot b^x\n",
    "$$"
   ]
  }
 ],
 "metadata": {
  "colab": {
   "provenance": []
  },
  "kernelspec": {
   "display_name": "Python 3",
   "language": "python",
   "name": "python3"
  },
  "language_info": {
   "codemirror_mode": {
    "name": "ipython",
    "version": 3
   },
   "file_extension": ".py",
   "mimetype": "text/x-python",
   "name": "python",
   "nbconvert_exporter": "python",
   "pygments_lexer": "ipython3",
   "version": "3.12.6"
  }
 },
 "nbformat": 4,
 "nbformat_minor": 4
}
